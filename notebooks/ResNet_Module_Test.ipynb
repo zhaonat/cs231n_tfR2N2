{
 "cells": [
  {
   "cell_type": "code",
   "execution_count": 1,
   "metadata": {},
   "outputs": [
    {
     "name": "stderr",
     "output_type": "stream",
     "text": [
      "C:\\Users\\zhaon\\Anaconda3\\envs\\tensorflow\\lib\\site-packages\\h5py\\__init__.py:36: FutureWarning: Conversion of the second argument of issubdtype from `float` to `np.floating` is deprecated. In future, it will be treated as `np.float64 == np.dtype(float).type`.\n",
      "  from ._conv import register_converters as _register_converters\n"
     ]
    },
    {
     "name": "stdout",
     "output_type": "stream",
     "text": [
      "(50000, 32, 32, 3)\n",
      "(50000, 1)\n"
     ]
    }
   ],
   "source": [
    "import tensorflow as tf\n",
    "import numpy as np\n",
    "#get cifar10\n",
    "(x_train, y_train), (x_test, y_test) = tf.keras.datasets.cifar10.load_data();\n",
    "print(x_train.shape)\n",
    "print(y_train.shape)\n"
   ]
  },
  {
   "cell_type": "code",
   "execution_count": 3,
   "metadata": {},
   "outputs": [
    {
     "name": "stdout",
     "output_type": "stream",
     "text": [
      "(50000, 10)\n",
      "<class 'numpy.ndarray'>\n"
     ]
    }
   ],
   "source": [
    "from sklearn.preprocessing import OneHotEncoder\n",
    "from sklearn.preprocessing import scale\n",
    "onehot_encoder = OneHotEncoder(sparse=False)\n",
    "y_train_ohe = onehot_encoder.fit_transform(y_train);\n",
    "print(y_train_ohe.shape)\n",
    "print(type(y_train_ohe))\n",
    "y_test_ohe =onehot_encoder.fit_transform(y_test); \n"
   ]
  },
  {
   "cell_type": "code",
   "execution_count": 31,
   "metadata": {},
   "outputs": [],
   "source": [
    "## resblock definition\n",
    "def res_block(input_tensor, kernel_size, filters):\n",
    "    '''\n",
    "    resnet is simply a number of these blocks stacked togther\n",
    "    #for the shortcut, we need to add in a 1x1 conv in situations\n",
    "    # where input and output shapes are not equal (by shape, we mean num_channels)\n",
    "\n",
    "    :param input\n",
    "    :return:\n",
    "    '''\n",
    "\n",
    "    filters1, filters2, filters3 = filters\n",
    "    shortcut = input_tensor ## preserve the input\n",
    "    #1d conv so we can scale the num_channels\n",
    "    x = tf.layers.conv2d(input_tensor, filters = filters1, kernel_size = (1, 1))\n",
    "    x = tf.layers.batch_normalization(x)\n",
    "    x = tf.nn.relu(x)\n",
    "\n",
    "    #apply the conv\n",
    "    x = tf.layers.Conv2D(filters2, kernel_size,\n",
    "               padding='same')(x)\n",
    "    x = tf.layers.batch_normalization(x)\n",
    "    x = tf.nn.relu(x)\n",
    "\n",
    "    #1d conv so we can project back to the original conv size\n",
    "    x = tf.layers.conv2d(x, filters = filters3, kernel_size =(1, 1))\n",
    "    x = tf.layers.batch_normalization(x)\n",
    "\n",
    "    x = tf.add(x, input_tensor)\n",
    "    x = tf.nn.relu(x);\n",
    "    return x"
   ]
  },
  {
   "cell_type": "code",
   "execution_count": 32,
   "metadata": {},
   "outputs": [],
   "source": [
    "#take a batch\n",
    "batch_size = 1000\n",
    "[N,H,W,C] = x_train.shape;\n",
    "num_batches = int(N/batch_size);"
   ]
  },
  {
   "cell_type": "code",
   "execution_count": 38,
   "metadata": {},
   "outputs": [],
   "source": [
    "#define a resnet model\n",
    "# define a resnet architecture using layers api\n",
    "tf.reset_default_graph()\n",
    "X = tf.placeholder(tf.float32, shape = [None, 32, 32, 3], name = 'X')\n",
    "input_labels = tf.placeholder(tf.int32, shape = [None, 10], name = 'y')\n",
    "inputs = X;\n",
    "\n",
    "## starting conv layer\n",
    "inputs = tf.layers.conv2d(inputs, filters = 256, kernel_size = (7,7))\n",
    "inputs = tf.layers.batch_normalization(inputs);\n",
    "inputs = tf.nn.relu(inputs);\n",
    "inputs = tf.layers.max_pooling2d(inputs,pool_size = (3,3),strides = (2,2))\n",
    "\n",
    "kernel_size = (3,3);\n",
    "filters1 = [64, 64, 256]; #last should be next filter size\n",
    "id_block= res_block(inputs, kernel_size, filters1);\n",
    "id_block= res_block(id_block, kernel_size, filters1);\n",
    "id_block= res_block(id_block, kernel_size, filters1);\n",
    "\n",
    "flat = tf.layers.flatten(id_block);\n",
    "d1 = tf.layers.dense(flat, 100, activation = tf.nn.relu);\n",
    "\n",
    "scores = tf.layers.dense(d1, 10);"
   ]
  },
  {
   "cell_type": "code",
   "execution_count": 39,
   "metadata": {},
   "outputs": [
    {
     "name": "stdout",
     "output_type": "stream",
     "text": [
      "50\n",
      "2.2041292\n",
      "1.8931509\n",
      "1.7854074\n",
      "1.7164096\n",
      "1.6258874\n",
      "1.6747284\n",
      "1.5924534\n",
      "1.5070161\n",
      "1.448375\n",
      "1.4111966\n",
      "1.3532264\n",
      "1.288013\n",
      "1.2271911\n",
      "1.2303791\n",
      "1.1536807\n",
      "1.0751345\n",
      "1.0395292\n",
      "0.9802826\n",
      "0.9900943\n",
      "0.93399537\n",
      "0.8205848\n",
      "0.730043\n",
      "0.7125394\n",
      "0.917505\n",
      "0.8413545\n",
      "0.75919837\n",
      "0.6360442\n",
      "0.90315026\n",
      "0.7800903\n",
      "0.5413026\n",
      "0.60031295\n",
      "0.5315741\n",
      "0.47990248\n",
      "0.5562389\n",
      "0.49868977\n",
      "0.45520467\n",
      "0.3264515\n",
      "0.31677616\n",
      "0.26640168\n",
      "0.35123175\n",
      "0.6030655\n",
      "0.33994052\n",
      "0.16608453\n",
      "0.14820781\n",
      "0.105096765\n",
      "0.1325444\n",
      "0.14456445\n",
      "0.19127643\n",
      "0.11390187\n",
      "0.10474246\n",
      "0.18839122\n",
      "0.04943488\n",
      "0.028419707\n",
      "0.02419307\n",
      "0.015116362\n",
      "0.028473997\n",
      "0.015411129\n",
      "0.013474443\n",
      "0.010958408\n",
      "0.0068283747\n",
      "0.009417354\n",
      "0.003763233\n",
      "0.0018954591\n",
      "0.0020384593\n"
     ]
    }
   ],
   "source": [
    "## optimize the graph\n",
    "loss= tf.nn.softmax_cross_entropy_with_logits_v2(labels = input_labels, logits = scores);\n",
    "loss = tf.reduce_mean(loss);\n",
    "optimizer = tf.train.AdamOptimizer();\n",
    "optimizer = optimizer.minimize(loss);\n",
    "\n",
    "init = tf.global_variables_initializer()\n",
    "sess = tf.Session();\n",
    "sess.run(init)\n",
    "epochs = 64; print(num_batches)\n",
    "for i in range(epochs):\n",
    "    for j in range(num_batches):\n",
    "        X_batch = x_train[j*batch_size:(j+1)*batch_size, :, :, :];\n",
    "        y_batch = y_train_ohe[j*batch_size:(j+1)*batch_size, :];\n",
    "        y_batch_flat = y_train[j*batch_size:(j+1)*batch_size, :]        \n",
    "        sess.run(optimizer, feed_dict = {X: X_batch, input_labels: y_batch})\n",
    "        #if(j == num_batches-1): print(sess.run(loss, feed_dict = {X: X_batch, input_labels: y_batch}))\n",
    "\n",
    "    if(i%10 == 0):\n",
    "        print('epoch: '+str(i)+' loss: '+str(sess.run(loss, feed_dict = {X: X_batch, input_labels: y_batch})))"
   ]
  },
  {
   "cell_type": "code",
   "execution_count": 40,
   "metadata": {},
   "outputs": [
    {
     "name": "stdout",
     "output_type": "stream",
     "text": [
      "0.40599999999999964\n"
     ]
    }
   ],
   "source": [
    "test_score = 0;\n",
    "for j in range(int(10000/100)):\n",
    "    start = j*100; end = (j+1)*100\n",
    "    test_scores = sess.run(scores, feed_dict = {X: x_test[start:end, :,:,:],\\\n",
    "                                                input_labels: y_test_ohe[start:end, :]});\n",
    "    test_labels = np.argmax(test_scores, axis = 1);\n",
    "    test_score+=((1/100)*np.sum(test_labels == np.reshape(y_test[start:end], (100, ))))\n",
    "    \n",
    "print(test_score/int(10000/100))"
   ]
  },
  {
   "cell_type": "code",
   "execution_count": null,
   "metadata": {},
   "outputs": [],
   "source": []
  }
 ],
 "metadata": {
  "kernelspec": {
   "display_name": "Python 3",
   "language": "python",
   "name": "python3"
  },
  "language_info": {
   "codemirror_mode": {
    "name": "ipython",
    "version": 3
   },
   "file_extension": ".py",
   "mimetype": "text/x-python",
   "name": "python",
   "nbconvert_exporter": "python",
   "pygments_lexer": "ipython3",
   "version": "3.6.5"
  }
 },
 "nbformat": 4,
 "nbformat_minor": 2
}
