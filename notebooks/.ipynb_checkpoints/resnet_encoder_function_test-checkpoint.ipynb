{
 "cells": [
  {
   "cell_type": "code",
   "execution_count": 1,
   "metadata": {},
   "outputs": [
    {
     "name": "stderr",
     "output_type": "stream",
     "text": [
      "C:\\Users\\zhaon\\Anaconda3\\envs\\tensorflow\\lib\\site-packages\\h5py\\__init__.py:36: FutureWarning: Conversion of the second argument of issubdtype from `float` to `np.floating` is deprecated. In future, it will be treated as `np.float64 == np.dtype(float).type`.\n",
      "  from ._conv import register_converters as _register_converters\n"
     ]
    },
    {
     "name": "stdout",
     "output_type": "stream",
     "text": [
      "(50000, 32, 32, 3)\n",
      "(50000, 1)\n"
     ]
    }
   ],
   "source": [
    "import tensorflow as tf\n",
    "import numpy as np\n",
    "#get cifar10\n",
    "(x_train, y_train), (x_test, y_test) = tf.keras.datasets.cifar10.load_data();\n",
    "print(x_train.shape)\n",
    "print(y_train.shape)"
   ]
  },
  {
   "cell_type": "code",
   "execution_count": 2,
   "metadata": {},
   "outputs": [
    {
     "name": "stdout",
     "output_type": "stream",
     "text": [
      "(50000, 10)\n",
      "<class 'numpy.ndarray'>\n"
     ]
    }
   ],
   "source": [
    "from sklearn.preprocessing import OneHotEncoder\n",
    "from sklearn.preprocessing import scale\n",
    "onehot_encoder = OneHotEncoder(sparse=False)\n",
    "y_train_ohe = onehot_encoder.fit_transform(y_train);\n",
    "print(y_train_ohe.shape)\n",
    "print(type(y_train_ohe))\n",
    "y_test_ohe =onehot_encoder.fit_transform(y_test); "
   ]
  },
  {
   "cell_type": "code",
   "execution_count": 3,
   "metadata": {},
   "outputs": [],
   "source": [
    "## resblock definition\n",
    "def res_block(input_tensor, kernel_size, filters):\n",
    "    '''\n",
    "    resnet is simply a number of these blocks stacked togther\n",
    "    #for the shortcut, we need to add in a 1x1 conv in situations\n",
    "    # where input and output shapes are not equal (by shape, we mean num_channels)\n",
    "\n",
    "    :param input\n",
    "    :return:\n",
    "    '''\n",
    "\n",
    "    filters1, filters2, filters3 = filters\n",
    "    shortcut = input_tensor ## preserve the input\n",
    "    #1d conv so we can scale the num_channels\n",
    "    x = tf.layers.conv2d(input_tensor, filters = filters1, kernel_size = (1, 1))\n",
    "    x = tf.layers.batch_normalization(x)\n",
    "    x = tf.nn.relu(x)\n",
    "\n",
    "    #apply the conv\n",
    "    x = tf.layers.Conv2D(filters2, kernel_size,\n",
    "               padding='same')(x)\n",
    "    x = tf.layers.batch_normalization(x)\n",
    "    x = tf.nn.relu(x)\n",
    "\n",
    "    #1d conv so we can project back to the original conv size\n",
    "    x = tf.layers.conv2d(x, filters = filters3, kernel_size =(1, 1))\n",
    "    x = tf.layers.batch_normalization(x)\n",
    "\n",
    "    x = tf.add(x, input_tensor)\n",
    "    x = tf.nn.relu(x);\n",
    "    return x\n",
    "\n",
    "def encoder_resnet(input_batch):\n",
    "    conv7 = tf.layers.conv2d(inputs=input_batch, filters=32, kernel_size=(2, 2))\n",
    "    # use a for loop for the remaining 5 3x3 convs\n",
    "    inputs = conv7;\n",
    "    kernel_size = (2,2)\n",
    "    filter_array = [64,64,32]\n",
    "\n",
    "    ## first downsampling conv layer\n",
    "    inputs = tf.layers.batch_normalization(inputs);\n",
    "    inputs = tf.nn.relu(inputs);\n",
    "\n",
    "    ## define first resblock\n",
    "    for i in range(2):\n",
    "        inputs = res_block(inputs, kernel_size, filters = filter_array)\n",
    "    kernel_size = (2,2);\n",
    "\n",
    "    ## second downsampling conv layer\n",
    "    inputs = tf.layers.conv2d(inputs, filters=256, kernel_size=(3,3))\n",
    "    inputs = tf.layers.batch_normalization(inputs);\n",
    "    inputs = tf.nn.relu(inputs);\n",
    "    inputs = tf.layers.max_pooling2d(inputs, pool_size=(2,2), strides=(2, 2))\n",
    "\n",
    "    ## define second resblock\n",
    "    filter_array2 = [128,128, 256];\n",
    "    for i in range(3):\n",
    "        conv_out = res_block(inputs, kernel_size, filters = filter_array2)\n",
    "\n",
    "    ## third downsampling conv layer\n",
    "    inputs = tf.layers.conv2d(conv_out, filters=32, kernel_size=(2,2))\n",
    "    inputs = tf.layers.batch_normalization(inputs);\n",
    "    inputs = tf.nn.relu(inputs);\n",
    "    inputs = tf.layers.max_pooling2d(inputs, pool_size=(2,2), strides=(2, 2))\n",
    "\n",
    "    ## define second resblock\n",
    "    filter_array2 = [64,64,32];\n",
    "    for i in range(3):\n",
    "        conv_out = res_block(inputs, kernel_size, filters = filter_array2)\n",
    "\n",
    "\n",
    "    batch_norm = tf.layers.batch_normalization(conv_out)\n",
    "    dropout = tf.layers.dropout(batch_norm, rate=0.4);  # rate is the drop rate\n",
    "    pool3 = tf.layers.max_pooling2d(inputs=dropout, pool_size=[2, 2], strides=2)\n",
    "    pool7 = pool3;\n",
    "    # add in dense layer\n",
    "    pool_flat = tf.contrib.layers.flatten(pool7)\n",
    "    dense = tf.layers.dense(inputs=pool_flat, units=1024, activation=tf.nn.relu)\n",
    "\n",
    "    # run this\n",
    "    return dense;\n"
   ]
  },
  {
   "cell_type": "code",
   "execution_count": 4,
   "metadata": {},
   "outputs": [],
   "source": [
    "#take a batch\n",
    "batch_size = 1000\n",
    "[N,H,W,C] = x_train.shape;\n",
    "num_batches = int(N/batch_size);"
   ]
  },
  {
   "cell_type": "code",
   "execution_count": 5,
   "metadata": {},
   "outputs": [],
   "source": [
    "#define a resnet model\n",
    "# define a resnet architecture using layers api\n",
    "tf.reset_default_graph()\n",
    "X = tf.placeholder(tf.float32, shape = [None, 32, 32, 3], name = 'X')\n",
    "input_labels = tf.placeholder(tf.int32, shape = [None, 10], name = 'y')\n",
    "inputs = X;\n",
    "\n",
    "final_dense = encoder_resnet(input_batch);\n",
    "scores = tf.layers.dense(final_dense, 10);"
   ]
  },
  {
   "cell_type": "code",
   "execution_count": null,
   "metadata": {},
   "outputs": [],
   "source": []
  }
 ],
 "metadata": {
  "kernelspec": {
   "display_name": "Python 3",
   "language": "python",
   "name": "python3"
  },
  "language_info": {
   "codemirror_mode": {
    "name": "ipython",
    "version": 3
   },
   "file_extension": ".py",
   "mimetype": "text/x-python",
   "name": "python",
   "nbconvert_exporter": "python",
   "pygments_lexer": "ipython3",
   "version": "3.6.5"
  }
 },
 "nbformat": 4,
 "nbformat_minor": 2
}
