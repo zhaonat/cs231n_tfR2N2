{
 "cells": [
  {
   "cell_type": "code",
   "execution_count": 5,
   "metadata": {},
   "outputs": [],
   "source": [
    "import tensorflow as tf\n",
    "import numpy as np\n",
    "import matplotlib.pyplot as plt\n",
    "import matplotlib.image as mpimg\n",
    "import settings\n",
    "import os\n",
    "import matplotlib.pyplot as plt"
   ]
  },
  {
   "cell_type": "code",
   "execution_count": 29,
   "metadata": {},
   "outputs": [
    {
     "name": "stdout",
     "output_type": "stream",
     "text": [
      "(137, 137, 4)\n"
     ]
    },
    {
     "data": {
      "image/png": "[encoded data removed]",
      "text/plain": [
       "<Figure size 432x288 with 1 Axes>"
      ]
     },
     "metadata": {},
     "output_type": "display_data"
    }
   ],
   "source": [
    "#load a sample image\n",
    "image = os.path.join(settings.ROOT_DIR, 'data', 'sample', '03.png');\n",
    "image = mpimg.imread(image);\n",
    "print(image.shape)\n",
    "image = np.reshape(image, (1, 137, 137 ,4))\n",
    "plt.figure();\n",
    "plt.imshow(image[0, :,:,1:4]);\n",
    "plt.show()\n"
   ]
  },
  {
   "cell_type": "code",
   "execution_count": 9,
   "metadata": {},
   "outputs": [],
   "source": [
    "## design tensorflow function which performs CNN encoding\n",
    "def simple_encoder_layer(input_image):\n",
    "    '''\n",
    "    #input image should be a tensorflow tensor\n",
    "    should accge,\n",
    "      filters=32,\n",
    "      kernel_size=[7,7],\n",
    "      padding=\"same\",\n",
    "      activation=tf.nn.relu)    \n",
    "    #add a maxpool\n",
    "    pool7 = tf.layers.max_pooling2d(inputs=conv7, pool_size=[2, 2], strides=2)\n",
    "ept an input 127x127 rgb image (W x H x C); #color channels should be last dim\n",
    "    should ouput a dense representation or encoding\n",
    "    '''\n",
    "\n",
    "    conv7 = tf.layers.conv2d(\n",
    "      inputs=input_image,\n",
    "          filters=32,\n",
    "          kernel_size=[1,1],\n",
    "          padding=\"same\",\n",
    "          activation=tf.nn.relu)\n",
    "    pool7 = tf.layers.max_pooling2d(inputs=conv7, pool_size=[2, 2], strides=2)\n",
    "    #use a for loop for the remaining 5 3x3 convs\n",
    "    for i in range(5):\n",
    "        conv3 = tf.layers.conv2d(\n",
    "          inputs=pool7,\n",
    "          filters=32,\n",
    "          kernel_size=[3,3],\n",
    "          padding=\"same\",\n",
    "          activation=tf.nn.relu)\n",
    "        pool3 = tf.layers.max_pooling2d(inputs=conv3, pool_size=[2, 2], strides=2)\n",
    "        pool7 = pool3;\n",
    "        \n",
    "    #add in dense layer\n",
    "    pool_flat = tf.contrib.layers.flatten(pool7)\n",
    "    dense = tf.layers.dense(inputs=pool_flat, units=1024, activation=tf.nn.relu)\n",
    "    \n",
    "    #run this\n",
    "    return dense;\n",
    "    "
   ]
  },
  {
   "cell_type": "code",
   "execution_count": 10,
   "metadata": {},
   "outputs": [
    {
     "name": "stdout",
     "output_type": "stream",
     "text": [
      "(1, 127, 127, 3)\n",
      "(1, 1024)\n"
     ]
    },
    {
     "data": {
      "image/png": "[encoded data removed]",
      "text/plain": [
       "<Figure size 432x288 with 1 Axes>"
      ]
     },
     "metadata": {},
     "output_type": "display_data"
    }
   ],
   "source": [
    "''' test encoder architecture'''\n",
    "\n",
    "test_image = np.random.rand(1, 137, 137, 3)\n",
    "print(test_image.shape)\n",
    "\n",
    "x = tf.placeholder(tf.float32, shape = [None, 137, 137, 3])\n",
    "\n",
    "test_out = simple_encoder_layer(x)\n",
    "\n",
    "init = tf.global_variables_initializer();\n",
    "sess = tf.Session();\n",
    "sess.run(init);\n",
    "out_image = sess.run(test_out, feed_dict={x: test_image})\n",
    "print(out_image.shape)\n",
    "plt.figure();\n",
    "plt.plot(out_image[0])\n",
    "plt.show()"
   ]
  },
  {
   "cell_type": "code",
   "execution_count": 11,
   "metadata": {},
   "outputs": [],
   "source": [
    "'''\n",
    "under what circumstances would you train an image deconvolver to begin with?\n",
    "'''\n",
    "def decoder(encoded_image):\n",
    "    ''' for now, this takes in a FC output and deconvolves it, FC is 1024 dimensional'''\n",
    "    #first it has to reshape it\n",
    "    small_image = tf.reshape(encoded_image, shape = [-1, 16, 16, 4])\n",
    "    Z1 = tf.layers.conv2d_transpose(\n",
    "        small_image,\n",
    "        filters = 32,\n",
    "        kernel_size = (3,3))\n",
    "    Zf = tf.layers.conv2d_transpose(\n",
    "        Z1,\n",
    "        filters = 32,\n",
    "        kernel_size = (5,5))\n",
    "    Zf = tf.layers.conv2d_transpose(\n",
    "        Zf,\n",
    "        filters = 3,\n",
    "        kernel_size = (8,8))\n",
    "    return Zf\n"
   ]
  },
  {
   "cell_type": "code",
   "execution_count": 26,
   "metadata": {},
   "outputs": [
    {
     "name": "stdout",
     "output_type": "stream",
     "text": [
      "(?, 1024)\n",
      "<class 'tensorflow.python.framework.ops.Tensor'>\n"
     ]
    },
    {
     "name": "stderr",
     "output_type": "stream",
     "text": [
      "Clipping input data to the valid range for imshow with RGB data ([0..1] for floats or [0..255] for integers).\n"
     ]
    },
    {
     "name": "stdout",
     "output_type": "stream",
     "text": [
      "(1, 29, 29, 3)\n",
      "[[[-5.37768174e-05  4.02352089e-05 -6.24185777e-05]\n",
      "  [ 1.26413361e-05  2.49495133e-06 -9.94099828e-05]\n",
      "  [-4.80683404e-04  2.63022928e-04 -3.12470569e-04]\n",
      "  ...\n",
      "  [ 2.73127935e-05 -2.27889832e-04  1.52638415e-04]\n",
      "  [-1.29892840e-04 -1.56855735e-04 -1.14656883e-04]\n",
      "  [-1.94939475e-05 -2.80933509e-05  1.91372656e-05]]\n",
      "\n",
      " [[-3.51665134e-04  6.95939671e-05 -1.25832026e-04]\n",
      "  [ 5.06071374e-04 -1.99726084e-04 -1.22964062e-04]\n",
      "  [-2.25227064e-04 -2.24583666e-04  5.37201529e-04]\n",
      "  ...\n",
      "  [ 6.07059104e-04 -7.02523452e-04 -2.21037553e-04]\n",
      "  [-8.93283504e-05 -7.71670020e-05 -3.32445430e-04]\n",
      "  [ 5.32589620e-05  7.43815763e-05  1.35729661e-05]]\n",
      "\n",
      " [[-6.21951593e-04  3.54680611e-04 -3.15189973e-04]\n",
      "  [ 7.17994873e-04 -8.91106392e-05 -2.84315727e-04]\n",
      "  [-1.51365262e-03 -1.48818115e-04  5.20805188e-04]\n",
      "  ...\n",
      "  [-6.09770126e-04  8.89444258e-04 -1.20367645e-03]\n",
      "  [-1.74709159e-04 -7.74128421e-05  9.82368801e-05]\n",
      "  [-5.69537151e-05 -3.91683716e-05  6.53391762e-05]]\n",
      "\n",
      " ...\n",
      "\n",
      " [[ 4.58387338e-04 -2.47948919e-04  4.00668272e-04]\n",
      "  [ 2.74572260e-04 -4.84905700e-04  2.40921602e-03]\n",
      "  [-5.01745101e-03 -7.22291879e-04  5.56717021e-03]\n",
      "  ...\n",
      "  [-1.75820210e-03  9.71796922e-04  9.93814785e-04]\n",
      "  [ 2.12005645e-04 -7.70166516e-04  1.14780676e-04]\n",
      "  [-7.31516280e-04 -1.31142544e-04  4.22003068e-04]]\n",
      "\n",
      " [[-2.89208663e-04 -1.92497362e-04  3.22901586e-04]\n",
      "  [-1.31368474e-03 -5.24563831e-04  8.50634882e-04]\n",
      "  [-1.36115227e-03 -1.04478921e-03  1.81690196e-03]\n",
      "  ...\n",
      "  [ 2.51974998e-04  6.21951884e-04  5.07665449e-04]\n",
      "  [-2.31487153e-04 -3.82139697e-04 -1.90932507e-04]\n",
      "  [-5.51428529e-04 -4.88467922e-05  2.62433896e-04]]\n",
      "\n",
      " [[-3.87750071e-04 -3.57428362e-05  1.97189860e-04]\n",
      "  [-1.04122690e-03 -5.80574560e-05  5.45941060e-04]\n",
      "  [-1.14166550e-03 -9.80438199e-06 -4.82510397e-04]\n",
      "  ...\n",
      "  [-3.80174955e-04 -7.32779154e-06 -3.80539917e-04]\n",
      "  [ 5.14283056e-05  4.48575120e-05 -5.17594708e-06]\n",
      "  [-3.69034424e-05 -1.21272001e-06  4.26962433e-05]]]\n"
     ]
    },
    {
     "data": {
      "image/png": "[encoded data removed]",
      "text/plain": [
       "<Figure size 432x288 with 1 Axes>"
      ]
     },
     "metadata": {},
     "output_type": "display_data"
    }
   ],
   "source": [
    "#test decoder with encoder output\n",
    "x = tf.placeholder(tf.float32, shape = [None, 137, 137, 3])\n",
    "encode = simple_encoder_layer(x)\n",
    "print(encode.shape); print(type(encode))\n",
    "test_out = decoder(encode)\n",
    "\n",
    "init = tf.global_variables_initializer();\n",
    "sess = tf.Session();\n",
    "sess.run(init);\n",
    "decoded = sess.run(test_out, feed_dict={x: image[:,:,:,0:3]})\n",
    "print(decoded.shape)\n",
    "plt.figure();\n",
    "plt.imshow(decoded[0,:,:,:]); #just gibberish becuase we haven't trained anything\n",
    "plt.show()"
   ]
  },
  {
   "cell_type": "code",
   "execution_count": null,
   "metadata": {},
   "outputs": [],
   "source": []
  }
 ],
 "metadata": {
  "kernelspec": {
   "display_name": "Python 3",
   "language": "python",
   "name": "python3"
  },
  "language_info": {
   "codemirror_mode": {
    "name": "ipython",
    "version": 3
   },
   "file_extension": ".py",
   "mimetype": "text/x-python",
   "name": "python",
   "nbconvert_exporter": "python",
   "pygments_lexer": "ipython3",
   "version": "3.6.5"
  }
 },
 "nbformat": 4,
 "nbformat_minor": 1
}
