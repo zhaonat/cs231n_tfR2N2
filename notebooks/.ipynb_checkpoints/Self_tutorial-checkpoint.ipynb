{
 "cells": [
  {
   "cell_type": "code",
   "execution_count": 3,
   "metadata": {},
   "outputs": [
    {
     "name": "stderr",
     "output_type": "stream",
     "text": [
      "C:\\Users\\zhaon\\Anaconda3\\envs\\tensorflow\\lib\\site-packages\\h5py\\__init__.py:36: FutureWarning: Conversion of the second argument of issubdtype from `float` to `np.floating` is deprecated. In future, it will be treated as `np.float64 == np.dtype(float).type`.\n",
      "  from ._conv import register_converters as _register_converters\n"
     ]
    },
    {
     "name": "stdout",
     "output_type": "stream",
     "text": [
      "Extracting /tmp/data/train-images-idx3-ubyte.gz\n",
      "Extracting /tmp/data/train-labels-idx1-ubyte.gz\n",
      "Extracting /tmp/data/t10k-images-idx3-ubyte.gz\n",
      "Extracting /tmp/data/t10k-labels-idx1-ubyte.gz\n"
     ]
    }
   ],
   "source": [
    "\"\"\" Auto Encoder Example.\n",
    "Build a 2 layers auto-encoder with TensorFlow to compress images to a\n",
    "lower latent space and then reconstruct them.\n",
    "References:\n",
    "    Y. LeCun, L. Bottou, Y. Bengio, and P. Haffner. \"Gradient-based\n",
    "    learning applied to document recognition.\" Proceedings of the IEEE,\n",
    "    86(11):2278-2324, November 1998.\n",
    "Links:\n",
    "    [MNIST Dataset] http://yann.lecun.com/exdb/mnist/\n",
    "Author: Aymeric Damien\n",
    "Project: https://github.com/aymericdamien/TensorFlow-Examples/\n",
    "\"\"\"\n",
    "from __future__ import division, print_function, absolute_import\n",
    "\n",
    "import tensorflow as tf\n",
    "import numpy as np\n",
    "import matplotlib.pyplot as plt\n",
    "from sklearn import datasets\n",
    "from sklearn.model_selection import train_test_split\n",
    "import matplotlib.pyplot as plt\n",
    "# Import MNIST data\n",
    "from tensorflow.examples.tutorials.mnist import input_data\n",
    "mnist = input_data.read_data_sets(\"/tmp/data/\", one_hot=True)\n"
   ]
  },
  {
   "cell_type": "code",
   "execution_count": 4,
   "metadata": {},
   "outputs": [
    {
     "name": "stdout",
     "output_type": "stream",
     "text": [
      "<class 'numpy.ndarray'>\n",
      "shapes\n",
      "(1024, 784)\n",
      "(1024, 10)\n",
      "WARNING:tensorflow:From <ipython-input-4-02b281cb9c54>:37: softmax_cross_entropy_with_logits (from tensorflow.python.ops.nn_ops) is deprecated and will be removed in a future version.\n",
      "Instructions for updating:\n",
      "\n",
      "Future major versions of TensorFlow will allow gradients to flow\n",
      "into the labels input on backprop by default.\n",
      "\n",
      "See tf.nn.softmax_cross_entropy_with_logits_v2.\n",
      "\n",
      "10.708355\n",
      "1.1502838\n",
      "0.30572996\n",
      "0.086088344\n",
      "0.023441363\n",
      "0.008701508\n",
      "0.004957712\n",
      "0.0036333422\n",
      "0.0029502627\n",
      "0.0025310358\n"
     ]
    }
   ],
   "source": [
    "X_train = mnist.train.images\n",
    "y_train = mnist.train.labels\n",
    "print(type(X_train))\n",
    "## make sure you only have one notebok at a time\n",
    "\n",
    "#some variable definitions\n",
    "batch_size = 1024;\n",
    "X_batch = X_train[0:batch_size,:]\n",
    "print('shapes')\n",
    "print(X_batch.shape)\n",
    "y_batch = y_train[0:batch_size];\n",
    "print(y_batch.shape)\n",
    "#step 1): define an architecture or graph\n",
    "\n",
    "# step 2): run the graph\n",
    "tf.reset_default_graph()\n",
    "# trian the graph with loss\n",
    "X = tf.placeholder(tf.float32, name = 'X')\n",
    "y = tf.placeholder(tf.float32);\n",
    "\n",
    "#without defining a model, we initialize some weights\n",
    "W = tf.Variable(tf.truncated_normal([256, 784]))\n",
    "b = tf.Variable(tf.zeros([256, 1]))\n",
    "\n",
    "W2 = tf.Variable(tf.truncated_normal([10, 256]))\n",
    "b2 = tf.Variable(tf.zeros([10, 1]))\n",
    "\n",
    "#propagate\n",
    "Z1 = tf.matmul(W,X)+b\n",
    "A1 = tf.nn.sigmoid(Z1);\n",
    "Z2 = tf.matmul(W2, A1)+b2; #logits\n",
    "scores = tf.nn.softmax(Z2);\n",
    "loss = tf.nn.softmax_cross_entropy_with_logits(\n",
    "    labels=y_batch,\n",
    "    logits=tf.transpose(Z2),\n",
    "    dim=-1,\n",
    "    name='loss'\n",
    ")\n",
    "loss = tf.reduce_mean(loss)\n",
    "optimizer = tf.train.AdamOptimizer(learning_rate = 1e-2)\n",
    "optimizer = optimizer.minimize(loss);\n",
    "#now try to put an optimizer here\n",
    "\n",
    "init = tf.global_variables_initializer();\n",
    "sess = tf.Session();\n",
    "sess.run(init);\n",
    "for i in range(100):\n",
    "    test = sess.run(optimizer, feed_dict={X: X_batch.T})\n",
    "    if(i%10 == 0):\n",
    "        print(sess.run(loss, feed_dict={X: X_batch.T}))\n",
    "\n",
    "sess.close()"
   ]
  },
  {
   "cell_type": "code",
   "execution_count": 5,
   "metadata": {},
   "outputs": [
    {
     "name": "stdout",
     "output_type": "stream",
     "text": [
      "(1024, 784)\n",
      "1.9238572\n",
      "0.56602705\n",
      "0.37190846\n",
      "0.3034504\n",
      "0.27694622\n",
      "0.26618937\n",
      "0.26188642\n",
      "0.2590797\n",
      "0.25680742\n",
      "0.25611404\n"
     ]
    }
   ],
   "source": [
    "## define model by layers\n",
    "tf.reset_default_graph()\n",
    "\n",
    "\n",
    "input_layer = tf.placeholder(tf.float32, shape = [batch_size, 784])\n",
    "print(input_layer.shape)\n",
    "Z1 = tf.layers.dense(input_layer, 100, activation = tf.nn.relu)\n",
    "Z2 = tf.layers.dense(Z1, 50, activation = tf.nn.relu);\n",
    "Z3 = tf.layers.dense(Z1, 10, activation = tf.nn.relu);\n",
    "loss = tf.nn.softmax_cross_entropy_with_logits(\n",
    "    labels=y_batch,\n",
    "    logits=Z3,\n",
    "    dim=-1,\n",
    "    name='loss'\n",
    ")\n",
    "loss = tf.reduce_mean(loss)\n",
    "optimizer = tf.train.AdamOptimizer(learning_rate = 1e-2)\n",
    "optimizer = optimizer.minimize(loss);\n",
    "\n",
    "init = tf.global_variables_initializer(); #this initializes ALL VARIABLES\n",
    "sess = tf.Session();\n",
    "sess.run(init);\n",
    "\n",
    "for i in range(100):\n",
    "    y = sess.run(optimizer, feed_dict={input_layer: X_batch});\n",
    "    if(i%10 == 0):\n",
    "        print(sess.run(loss, feed_dict={input_layer: X_batch}))\n",
    "\n"
   ]
  },
  {
   "cell_type": "code",
   "execution_count": 19,
   "metadata": {},
   "outputs": [],
   "source": [
    " ## now we encode a layer-based model INTO A FUNCTION\n",
    "\n",
    "def first_prop(X):\n",
    "    '''\n",
    "    we will need to run the session within the function to\n",
    "    generate the output...which we can feed elsewhere\n",
    "    '''\n",
    "    Z1 = tf.layers.dense(X,  100, activation = tf.nn.relu)\n",
    "    Z2 = tf.layers.dense(Z1, 50, activation = tf.nn.relu);\n",
    "    Z3 = tf.layers.dense(Z1, 10, activation = tf.nn.relu);\n",
    "\n",
    "    return Z3; #return an intermediate layer\n",
    "    \n",
    "def second_prop(input_from_first):\n",
    "    Z1 = tf.layers.dense(input_from_first, 10, activation = tf.nn.relu)\n",
    "    return Z1; #return an intermediate layer\n"
   ]
  },
  {
   "cell_type": "code",
   "execution_count": 24,
   "metadata": {},
   "outputs": [
    {
     "name": "stdout",
     "output_type": "stream",
     "text": [
      "(1024, 10)\n",
      "Tensor(\"dense_69/Relu:0\", shape=(?, 10), dtype=float32)\n",
      "Tensor(\"dense_70/Relu:0\", shape=(?, 10), dtype=float32)\n",
      "2.323842\n",
      "2.15106\n",
      "1.0394118\n",
      "0.6843925\n",
      "0.48739892\n",
      "0.3770106\n",
      "0.32151815\n",
      "0.29706883\n",
      "0.28487116\n",
      "0.2793749\n",
      "0.27654597\n"
     ]
    }
   ],
   "source": [
    "## now we need to be able to train a model with multiple individual modules\n",
    "# not sure if starting and closing multiple sessions will make sense;\n",
    "print(y_batch.shape)\n",
    "x = tf.placeholder(tf.float32, shape = [None, 784])\n",
    "y1 = first_prop(x); print(y1)\n",
    "y2 = second_prop(y1); print(y2)\n",
    "\n",
    "loss = tf.nn.softmax_cross_entropy_with_logits(\n",
    "    labels = y_batch,\n",
    "    logits = y2)\n",
    "loss = tf.reduce_mean(loss) \n",
    "optimizer = tf.train.AdamOptimizer(learning_rate = 1e-2)\n",
    "optimizer = optimizer.minimize(loss);\n",
    "init = tf.global_variables_initializer();\n",
    "sess = tf.Session();\n",
    "sess.run(init);\n",
    "y = sess.run(loss, feed_dict = {x: X_batch});\n",
    "\n",
    "print(y)\n",
    "for i in range(100):\n",
    "    y = sess.run(optimizer, feed_dict={x: X_batch});\n",
    "    if(i%10 == 0):\n",
    "        print(sess.run(loss, feed_dict={x: X_batch}))\n",
    "\n",
    "sess.close();\n",
    "\n"
   ]
  },
  {
   "cell_type": "code",
   "execution_count": null,
   "metadata": {},
   "outputs": [],
   "source": [
    "\n",
    "    "
   ]
  },
  {
   "cell_type": "code",
   "execution_count": null,
   "metadata": {},
   "outputs": [],
   "source": []
  },
  {
   "cell_type": "code",
   "execution_count": null,
   "metadata": {},
   "outputs": [],
   "source": []
  }
 ],
 "metadata": {
  "kernelspec": {
   "display_name": "Python 3",
   "language": "python",
   "name": "python3"
  },
  "language_info": {
   "codemirror_mode": {
    "name": "ipython",
    "version": 3
   },
   "file_extension": ".py",
   "mimetype": "text/x-python",
   "name": "python",
   "nbconvert_exporter": "python",
   "pygments_lexer": "ipython3",
   "version": "3.6.5"
  }
 },
 "nbformat": 4,
 "nbformat_minor": 2
}
