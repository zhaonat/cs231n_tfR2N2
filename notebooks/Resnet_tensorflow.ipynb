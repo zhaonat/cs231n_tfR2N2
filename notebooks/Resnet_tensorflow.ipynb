{
 "cells": [
  {
   "cell_type": "code",
   "execution_count": 1,
   "metadata": {},
   "outputs": [
    {
     "name": "stderr",
     "output_type": "stream",
     "text": [
      "C:\\Users\\zhaon\\Anaconda3\\envs\\tensorflow\\lib\\site-packages\\h5py\\__init__.py:36: FutureWarning: Conversion of the second argument of issubdtype from `float` to `np.floating` is deprecated. In future, it will be treated as `np.float64 == np.dtype(float).type`.\n",
      "  from ._conv import register_converters as _register_converters\n"
     ]
    }
   ],
   "source": [
    "import tensorflow as tf\n",
    "import numpy as np\n"
   ]
  },
  {
   "cell_type": "code",
   "execution_count": 2,
   "metadata": {},
   "outputs": [
    {
     "name": "stdout",
     "output_type": "stream",
     "text": [
      "(50000, 32, 32, 3)\n",
      "(50000, 1)\n"
     ]
    }
   ],
   "source": [
    "#get cifar10\n",
    "(x_train, y_train), (x_test, y_test) = tf.keras.datasets.cifar10.load_data();\n",
    "print(x_train.shape)\n",
    "print(y_train.shape)\n"
   ]
  },
  {
   "cell_type": "code",
   "execution_count": 3,
   "metadata": {},
   "outputs": [
    {
     "name": "stdout",
     "output_type": "stream",
     "text": [
      "(50000, 10)\n",
      "<class 'numpy.ndarray'>\n"
     ]
    }
   ],
   "source": [
    "from sklearn.preprocessing import OneHotEncoder\n",
    "from sklearn.preprocessing import scale\n",
    "onehot_encoder = OneHotEncoder(sparse=False)\n",
    "y_train_ohe = onehot_encoder.fit_transform(y_train);\n",
    "print(y_train_ohe.shape)\n",
    "print(type(y_train_ohe))\n",
    "y_test_ohe =onehot_encoder.fit_transform(y_test); \n"
   ]
  },
  {
   "cell_type": "code",
   "execution_count": 9,
   "metadata": {},
   "outputs": [
    {
     "name": "stdout",
     "output_type": "stream",
     "text": [
      "50\n",
      "1.918337\n",
      "1.7777871\n",
      "1.672635\n",
      "1.6037912\n",
      "1.5446895\n",
      "1.514097\n",
      "1.4640743\n",
      "1.4218432\n",
      "1.4264026\n",
      "1.4171355\n",
      "1.4152231\n",
      "1.3823775\n",
      "1.3651155\n",
      "1.3706701\n",
      "1.2948895\n",
      "1.3256818\n",
      "1.2790327\n",
      "1.2206236\n",
      "1.305268\n",
      "1.2611796\n",
      "1.1988424\n",
      "1.1348256\n",
      "1.1241255\n",
      "1.134495\n",
      "1.1326243\n",
      "1.085825\n",
      "1.0864581\n",
      "1.0440274\n",
      "1.0822233\n",
      "1.1361177\n",
      "1.105918\n",
      "1.133069\n",
      "1.1186292\n",
      "1.0946678\n",
      "1.1226441\n",
      "1.1424261\n",
      "1.2278241\n",
      "1.1803416\n",
      "1.1117295\n",
      "1.0633464\n",
      "1.0485542\n",
      "1.0295331\n",
      "0.9982431\n",
      "1.0712858\n",
      "1.0617619\n",
      "1.1447258\n",
      "1.1032027\n",
      "1.0511764\n",
      "1.0252894\n",
      "1.0184307\n",
      "1.0945373\n",
      "1.1329823\n",
      "1.0591999\n",
      "0.9658932\n",
      "0.972596\n",
      "0.9744271\n",
      "1.0105498\n",
      "0.96760476\n",
      "0.8955789\n",
      "1.0482345\n",
      "0.9974572\n",
      "0.97386086\n",
      "0.98571116\n",
      "0.98269475\n"
     ]
    }
   ],
   "source": [
    "#take a batch\n",
    "batch_size = 1000\n",
    "[N,H,W,C] = x_train.shape;\n",
    "num_batches = int(N/batch_size);\n",
    "\n",
    "\n",
    "# define a resnet architecture using layers api\n",
    "tf.reset_default_graph()\n",
    "X = tf.placeholder(tf.float32, shape = [None, 32, 32, 3], name = 'X')\n",
    "input_labels = tf.placeholder(tf.int32, shape = [None, 10], name = 'y')\n",
    "inputs = X;\n",
    "for i in range(20):\n",
    "    filters = 3; kernel_size = (3,3);\n",
    "    z1 = tf.layers.conv2d(inputs,filters, kernel_size, padding = 'same');\n",
    "    #z2 = tf.layers.max_pooling2d(z1, (2,2), strides = (1,1))\n",
    "    z3 = tf.layers.batch_normalization(z1); \n",
    "    #input goes before relu\n",
    "    if(i%2 == 0):\n",
    "        z4 = tf.nn.relu(z3+inputs);\n",
    "    else:\n",
    "        z4 = tf.nn.relu(z3);\n",
    "\n",
    "    ## to make this a resnet, just add in the inputs here (f(x)+x); \n",
    "    # the challenge is that the input has been conved and maxpooled..\n",
    "    #doesn't seem like resnetting the conv layers works\n",
    "    inputs = z4;\n",
    "\n",
    "        \n",
    "\n",
    "flat = tf.layers.flatten(z4);\n",
    "\n",
    "d1 = tf.layers.dense(flat, 100, activation = tf.nn.relu);\n",
    "\n",
    "scores = tf.layers.dense(d1, 10);\n",
    "\n",
    "loss= tf.nn.softmax_cross_entropy_with_logits_v2(labels = input_labels, logits = scores);\n",
    "loss = tf.reduce_mean(loss);\n",
    "optimizer = tf.train.AdamOptimizer();\n",
    "optimizer = optimizer.minimize(loss);\n",
    "\n",
    "init = tf.global_variables_initializer()\n",
    "sess = tf.Session();\n",
    "sess.run(init)\n",
    "epochs = 64; print(num_batches)\n",
    "for i in range(epochs):\n",
    "    for j in range(num_batches):\n",
    "        X_batch = x_train[j*batch_size:(j+1)*batch_size, :, :, :];\n",
    "        y_batch = y_train_ohe[j*batch_size:(j+1)*batch_size, :];\n",
    "        y_batch_flat = y_train[j*batch_size:(j+1)*batch_size, :]        \n",
    "        sess.run(optimizer, feed_dict = {X: X_batch, input_labels: y_batch})\n",
    "        #if(j == num_batches-1): print(sess.run(loss, feed_dict = {X: X_batch, input_labels: y_batch}))\n",
    "\n",
    "\n",
    "    print(sess.run(loss, feed_dict = {X: X_batch, input_labels: y_batch}))\n",
    "        \n"
   ]
  },
  {
   "cell_type": "code",
   "execution_count": 10,
   "metadata": {},
   "outputs": [
    {
     "name": "stdout",
     "output_type": "stream",
     "text": [
      "0.3868000000000002\n"
     ]
    }
   ],
   "source": [
    "test_score = 0;\n",
    "for j in range(int(10000/100)):\n",
    "    start = j*100; end = (j+1)*100\n",
    "    test_scores = sess.run(scores, feed_dict = {X: x_test[start:end, :,:,:],\\\n",
    "                                                input_labels: y_test_ohe[start:end, :]});\n",
    "    test_labels = np.argmax(test_scores, axis = 1);\n",
    "    test_score+=((1/100)*np.sum(test_labels == np.reshape(y_test[start:end], (100, ))))\n",
    "    \n",
    "print(test_score/int(10000/100))"
   ]
  },
  {
   "cell_type": "code",
   "execution_count": 8,
   "metadata": {},
   "outputs": [
    {
     "name": "stdout",
     "output_type": "stream",
     "text": [
      "3.36208\n",
      "(1000, 10)\n",
      "0.65322\n",
      "(1000, 1)\n",
      "(50000,)\n"
     ]
    }
   ],
   "source": [
    "#training loss\n",
    "print(sess.run(loss, feed_dict = {X: x_test, input_labels: y_test_ohe}))\n",
    "print(y_batch.shape)\n",
    "#get test accuracy;\n",
    "test_scores = sess.run(scores, feed_dict = {X: x_train, input_labels: y_train_ohe});\n",
    "test_labels = np.argmax(test_scores, axis = 1);\n",
    "print((1/50000)*np.sum(test_labels == np.reshape(y_train, (50000, ))))\n",
    "\n",
    "print(y_batch_flat.shape)\n",
    "print(test_labels.shape)"
   ]
  },
  {
   "cell_type": "code",
   "execution_count": 19,
   "metadata": {},
   "outputs": [
    {
     "name": "stdout",
     "output_type": "stream",
     "text": [
      "(?, 32, 32, 32)\n",
      "50\n",
      "1.9628592\n",
      "1.6415296\n",
      "1.483886\n",
      "1.3569304\n",
      "1.30216\n",
      "1.2294301\n",
      "1.1243703\n",
      "1.0505928\n",
      "1.0054898\n",
      "0.95571196\n",
      "0.8728382\n",
      "0.85331106\n",
      "0.8252587\n",
      "0.76228166\n",
      "0.67413783\n",
      "0.6818821\n",
      "0.6991049\n",
      "0.6624811\n",
      "0.6561026\n",
      "0.5812231\n",
      "0.51621795\n",
      "0.43775374\n",
      "0.4962365\n",
      "0.44061223\n",
      "0.3394354\n",
      "0.39229926\n",
      "0.4982153\n",
      "0.44162065\n",
      "0.35921803\n",
      "0.34465733\n",
      "0.35259286\n",
      "0.4928921\n",
      "0.39488354\n",
      "0.30986664\n",
      "0.28232145\n",
      "0.32334545\n",
      "0.33965355\n",
      "0.30018803\n",
      "0.34975445\n",
      "0.29946703\n",
      "0.30915052\n",
      "0.29006675\n",
      "0.20330288\n",
      "0.2730444\n",
      "0.2215036\n",
      "0.23251429\n",
      "0.2499972\n",
      "0.20044991\n",
      "0.18913446\n",
      "0.15270746\n",
      "0.1777589\n",
      "0.1374425\n",
      "0.14991327\n",
      "0.122311786\n",
      "0.08652727\n",
      "0.062134016\n",
      "0.08820142\n",
      "0.042586353\n",
      "0.06600661\n",
      "0.048490852\n",
      "0.07565797\n",
      "0.07529184\n",
      "0.042257413\n",
      "0.044459343\n"
     ]
    }
   ],
   "source": [
    "''' \n",
    "train a resnet with flexible resizing\n",
    "in this situation, ALL filters are the same size, but greater than 3 so the only input\n",
    "that needs padding is the X\n",
    "'''\n",
    "\n",
    "#take a batch\n",
    "batch_size = 1000\n",
    "[N,H,W,C] = x_train.shape;\n",
    "num_batches = int(N/batch_size);\n",
    "\n",
    "\n",
    "# define a resnet architecture using layers api\n",
    "tf.reset_default_graph()\n",
    "X = tf.placeholder(tf.float32, shape = [None, 32, 32, 3], name = 'X')\n",
    "X_padding = tf.pad(X, [[0,0],[0,0],[0,0],[14, 15]])\n",
    "print(X_padding.shape)\n",
    "input_labels = tf.placeholder(tf.int32, shape = [None, 10], name = 'y')\n",
    "inputs = X;\n",
    "for i in range(20):\n",
    "    filters = 32; kernel_size = (3,3);\n",
    "    z1 = tf.layers.conv2d(inputs,filters, kernel_size, padding = 'same');\n",
    "    #z2 = tf.layers.max_pooling2d(z1, (2,2), strides = (1,1))\n",
    "    z3 = tf.layers.batch_normalization(z1); \n",
    "    #input goes before relu\n",
    "    if(i%2 == 0):\n",
    "        #pad the inputs so they are the same size as z3\n",
    "        if(i == 0):\n",
    "            padded_inputs = X_padding\n",
    "        else:\n",
    "            padded_inputs = inputs;\n",
    "        z4 = tf.nn.relu(z3+padded_inputs);\n",
    "    else:\n",
    "        z4 = tf.nn.relu(z3);\n",
    "\n",
    "    ## to make this a resnet, just add in the inputs here (f(x)+x); \n",
    "    # the challenge is that the input has been conved and maxpooled..\n",
    "    #doesn't seem like resnetting the conv layers works\n",
    "    inputs = z4;\n",
    "\n",
    "        \n",
    "\n",
    "flat = tf.layers.flatten(z4);\n",
    "\n",
    "d1 = tf.layers.dense(flat, 100, activation = tf.nn.relu);\n",
    "\n",
    "scores = tf.layers.dense(d1, 10);\n",
    "\n",
    "loss= tf.nn.softmax_cross_entropy_with_logits_v2(labels = input_labels, logits = scores);\n",
    "loss = tf.reduce_mean(loss);\n",
    "optimizer = tf.train.AdamOptimizer();\n",
    "optimizer = optimizer.minimize(loss);\n",
    "\n",
    "init = tf.global_variables_initializer()\n",
    "sess = tf.Session();\n",
    "sess.run(init)\n",
    "epochs = 64; print(num_batches)\n",
    "for i in range(epochs):\n",
    "    for j in range(num_batches):\n",
    "        X_batch = x_train[j*batch_size:(j+1)*batch_size, :, :, :];\n",
    "        y_batch = y_train_ohe[j*batch_size:(j+1)*batch_size, :];\n",
    "        y_batch_flat = y_train[j*batch_size:(j+1)*batch_size, :]        \n",
    "        sess.run(optimizer, feed_dict = {X: X_batch, input_labels: y_batch})\n",
    "        #if(j == num_batches-1): print(sess.run(loss, feed_dict = {X: X_batch, input_labels: y_batch}))\n",
    "\n",
    "\n",
    "    print(sess.run(loss, feed_dict = {X: X_batch, input_labels: y_batch}))\n",
    "        "
   ]
  },
  {
   "cell_type": "code",
   "execution_count": 20,
   "metadata": {},
   "outputs": [
    {
     "name": "stdout",
     "output_type": "stream",
     "text": [
      "0.5475999999999999\n"
     ]
    }
   ],
   "source": [
    "test_score = 0;\n",
    "for j in range(int(10000/100)):\n",
    "    start = j*100; end = (j+1)*100\n",
    "    test_scores = sess.run(scores, feed_dict = {X: x_test[start:end, :,:,:],\\\n",
    "                                                input_labels: y_test_ohe[start:end, :]});\n",
    "    test_labels = np.argmax(test_scores, axis = 1);\n",
    "    test_score+=((1/100)*np.sum(test_labels == np.reshape(y_test[start:end], (100, ))))\n",
    "    \n",
    "print(test_score/int(10000/100))"
   ]
  },
  {
   "cell_type": "code",
   "execution_count": null,
   "metadata": {},
   "outputs": [],
   "source": []
  }
 ],
 "metadata": {
  "kernelspec": {
   "display_name": "Python 3",
   "language": "python",
   "name": "python3"
  },
  "language_info": {
   "codemirror_mode": {
    "name": "ipython",
    "version": 3
   },
   "file_extension": ".py",
   "mimetype": "text/x-python",
   "name": "python",
   "nbconvert_exporter": "python",
   "pygments_lexer": "ipython3",
   "version": "3.6.5"
  }
 },
 "nbformat": 4,
 "nbformat_minor": 2
}
