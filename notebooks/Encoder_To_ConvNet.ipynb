{
 "cells": [
  {
   "cell_type": "code",
   "execution_count": 5,
   "metadata": {},
   "outputs": [],
   "source": [
    "import tensorflow as tf\n",
    "import numpy as np\n"
   ]
  },
  {
   "cell_type": "code",
   "execution_count": 6,
   "metadata": {},
   "outputs": [
    {
     "name": "stdout",
     "output_type": "stream",
     "text": [
      "(50000, 32, 32, 3)\n",
      "(50000, 1)\n"
     ]
    }
   ],
   "source": [
    "(x_train, y_train), (x_test, y_test)= tf.keras.datasets.cifar10.load_data()\n",
    "print(x_train.shape)\n",
    "print(y_train.shape)"
   ]
  },
  {
   "cell_type": "code",
   "execution_count": 7,
   "metadata": {},
   "outputs": [
    {
     "name": "stdout",
     "output_type": "stream",
     "text": [
      "(50000, 10)\n"
     ]
    }
   ],
   "source": [
    "from sklearn.preprocessing import OneHotEncoder\n",
    "from sklearn.preprocessing import scale\n",
    "onehot_encoder = OneHotEncoder(sparse=False)\n",
    "y_train_ohe = onehot_encoder.fit_transform(y_train);\n",
    "print(y_train_ohe.shape)\n",
    "y_test_ohe =onehot_encoder.fit_transform(y_test); \n"
   ]
  },
  {
   "cell_type": "code",
   "execution_count": 8,
   "metadata": {},
   "outputs": [
    {
     "name": "stdout",
     "output_type": "stream",
     "text": [
      "390\n",
      "1.3784881\n",
      "0.7338003\n",
      "0.4719963\n",
      "0.41018242\n"
     ]
    }
   ],
   "source": [
    "input_batch = tf.placeholder(tf.float32, shape = [None, 32, 32, 3])\n",
    "input_labels = tf.placeholder(tf.float32, shape = [None, 10])\n",
    "\n",
    "conv7 = tf.layers.conv2d(inputs=input_batch, filters = 32, kernel_size = (2,2))\n",
    "#use a for loop for the remaining 5 3x3 convs\n",
    "pool7 = conv7;\n",
    "for i in range(4):\n",
    "    conv3 = tf.layers.conv2d(\n",
    "      inputs=pool7,\n",
    "      filters=64,\n",
    "      kernel_size=[2,2],\n",
    "      padding=\"same\",\n",
    "      activation=tf.nn.relu)\n",
    "    batch_norm = tf.layers.batch_normalization(conv3)\n",
    "    dropout = tf.layers.dropout(batch_norm, rate=0.4);#rate is the drop rate\n",
    "    pool3 = tf.layers.max_pooling2d(inputs=dropout, pool_size=[2, 2], strides=2)\n",
    "    pool7 = pool3;\n",
    "\n",
    "#add in dense layer\n",
    "pool_flat = tf.contrib.layers.flatten(pool7)\n",
    "dense = tf.layers.dense(inputs=pool_flat, units=1024, activation=tf.nn.relu)\n",
    "\n",
    "#after here we are now attaching a softmax classifier to train it on cifar\n",
    "scores = tf.layers.dense(inputs = dense, units = 10, activation = None)\n",
    "\n",
    "loss = tf.nn.softmax_cross_entropy_with_logits_v2(\n",
    "    labels=input_labels,\n",
    "    logits=scores,\n",
    ")\n",
    "loss = tf.reduce_mean(loss);\n",
    "\n",
    "optimizer = tf.train.AdamOptimizer();\n",
    "optimizer = optimizer.minimize(loss);\n",
    "\n",
    "init = tf.global_variables_initializer()\n",
    "sess = tf.Session();\n",
    "sess.run(init)\n",
    "batch_size = 128;\n",
    "num_batches = int(len(y_train)/batch_size)\n",
    "epochs = 20; print(num_batches)\n",
    "for i in range(epochs):\n",
    "    for j in range(num_batches):\n",
    "        X_batch = x_train[j*batch_size:(j+1)*batch_size, :, :, :];\n",
    "        y_batch = y_train_ohe[j*batch_size:(j+1)*batch_size, :];\n",
    "        y_batch_flat = y_train[j*batch_size:(j+1)*batch_size, :]        \n",
    "        sess.run(optimizer, feed_dict = {input_batch: X_batch, input_labels: y_batch})\n",
    "        #print(sess.run(loss, feed_dict = {input_batch: X_batch, input_labels: y_batch}))\n",
    "\n",
    "    if(i%5 == 0):\n",
    "        print(sess.run(loss, feed_dict = {input_batch: X_batch, input_labels: y_batch}))\n",
    "        "
   ]
  },
  {
   "cell_type": "code",
   "execution_count": 15,
   "metadata": {},
   "outputs": [
    {
     "name": "stdout",
     "output_type": "stream",
     "text": [
      "0.6607999999999997\n"
     ]
    }
   ],
   "source": [
    "#test loss\n",
    "#print(sess.run(loss, feed_dict = {input_batch: x_test, input_labels: y_test_ohe}))\n",
    "#get test accuracy;\n",
    "test_score = 0;\n",
    "for j in range(int(10000/100)):\n",
    "    start = j*100; end = (j+1)*100\n",
    "    test_scores = sess.run(scores, feed_dict = {input_batch: x_test[start:end, :,:,:],\\\n",
    "                                                input_labels: y_test_ohe[start:end, :]});\n",
    "    test_labels = np.argmax(test_scores, axis = 1);\n",
    "    test_score+=((1/100)*np.sum(test_labels == np.reshape(y_test[start:end], (100, ))))\n",
    "    \n",
    "print(test_score/int(10000/100))\n"
   ]
  },
  {
   "cell_type": "code",
   "execution_count": null,
   "metadata": {},
   "outputs": [],
   "source": []
  }
 ],
 "metadata": {
  "kernelspec": {
   "display_name": "Python 3",
   "language": "python",
   "name": "python3"
  },
  "language_info": {
   "codemirror_mode": {
    "name": "ipython",
    "version": 3
   },
   "file_extension": ".py",
   "mimetype": "text/x-python",
   "name": "python",
   "nbconvert_exporter": "python",
   "pygments_lexer": "ipython3",
   "version": "3.6.5"
  }
 },
 "nbformat": 4,
 "nbformat_minor": 2
}
